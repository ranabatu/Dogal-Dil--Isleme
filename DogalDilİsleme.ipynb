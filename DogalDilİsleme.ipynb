{
 "cells": [
  {
   "cell_type": "markdown",
   "id": "ba898d91-ee27-4d93-ab39-4c6b5fdd5635",
   "metadata": {},
   "source": [
    "# DOĞAL DİL İŞLEME"
   ]
  },
  {
   "cell_type": "markdown",
   "id": "e0818401-2246-406f-8fca-5a199cdc9c2d",
   "metadata": {},
   "source": [
    "### Stemming      \n",
    "Stemming, bir kelimenin kök formunu bulmak için kullanılan basit bir tekniktir.\n",
    "Kelimenin sonundaki ekleri keserek kelimenin köküne ulaşmayı hedefler. Örneğin, \"playing\", \"played\" ve \"plays\" kelimeleri \"play\" köküne indirgenir.\n",
    "Bu yöntem, genellikle kurallara dayalı olarak çalışır ve dil bilgisi kurallarını dikkate almaz. Bu yüzden bazen kelimenin gerçek anlamını bozan köklere ulaşabilir.\n",
    "Stemming sonucunda dil açısından mantıklı olmayan kökler elde edilebilir. Örneğin, \"connect\" ve \"connected\" kelimeleri \"connect\"e indirgenirken, \"connections\" kelimesi yanlış bir şekilde \"connect\" yerine \"connect\" köküne indirgenebilir.\n",
    "\n",
    "### Lemmatization   \n",
    "Lemmatization, kelimeleri sözlükte bulunan doğru biçimlerine (lemma) indirgemeyi amaçlayan daha gelişmiş bir tekniktir.\n",
    "Bu yöntem, kelimenin anlamını ve dil bilgisi kurallarını dikkate alır. Yani, kelimenin temel anlamını bozmadan doğru kök formuna ulaşmayı hedefler.\n",
    "Örneğin, \"running\", \"ran\" ve \"runs\" kelimeleri \"run\" lemmasına indirgenir. Ancak kelimenin bağlamını ve türünü dikkate alarak işlem yapar, bu nedenle kelimenin doğru kök halini sağlar.\n",
    "Lemmatization için genellikle bir sözlük ve dil bilgisi analizine ihtiyaç duyulur, bu da süreci daha karmaşık hale getirir, fakat sonuçlar daha doğru olur.\n",
    "\n",
    "Kısaca Farkları    \n",
    "Stemming: Daha basit ve hızlı bir işlemdir, ancak doğruluk oranı düşüktür.\n",
    "Lemmatization: Daha karmaşıktır ve daha doğru sonuçlar verir, çünkü dil bilgisi kurallarını ve kelimenin anlamını dikkate alır."
   ]
  },
  {
   "cell_type": "markdown",
   "id": "be622b99-2d9b-4337-b413-6a275af458f0",
   "metadata": {},
   "source": [
    "## Stemmer Çeşitleri\n",
    "\n",
    "### Porter Stemmer   \n",
    "1979'da Martin Porter tarafından geliştirilmiş ve NLP'de en yaygın kullanılan stemmer'lardan biridir.\n",
    "İngilizce için oluşturulmuştur ve dil bilgisel kurallar kullanarak ekleri belirli kurallarla keser.\n",
    "Oldukça etkili ve yaygındır, ancak bazı durumlarda biraz yavaş çalışabilir.\n",
    "Porter Stemmer, kökleri doğru bir şekilde bulma konusunda oldukça başarılıdır, ancak bazen karmaşık kelimelerde hatalar yapabilir. Kelimenin sonundaki ekleri belirli bir sıraya göre keser ve kurallar içerir.\n",
    "Örneğin, \"caresses\" kelimesini \"caress\"e, \"ponies\" kelimesini \"poni\"ye indirger.\n",
    "\n",
    "### Snowball Stemmer   \n",
    "Snowball Stemmer, Martin Porter tarafından geliştirilen bir diğer stemmer'dır ve bazen \"Porter2\" olarak da bilinir.\n",
    "Daha esnek ve genişletilebilir bir yapıya sahiptir. Birçok dil için kullanılabilecek kurallar içerir ve bu nedenle farklı dillerde kullanılabilen bir çoklu dil desteği sunar.\n",
    "Daha güncel bir stemmer olup, Porter Stemmer'e göre daha tutarlı ve hızlı çalışır.\n",
    "Örneğin, İngilizce dışında Fransızca, Almanca, İspanyolca gibi diller için de destek sunar.\n",
    "\"Snowball\" ismi, aslında bu stemmer'ın geliştirildiği programlama dilinden gelmektedir ve algoritmanın kendisi de oldukça esnek yapılıdır.\n",
    "\n",
    "### Lancaster Stemmer  \n",
    "Lancaster Stemmer, aynı zamanda Paice-Husk Stemmer olarak da bilinir ve Porter Stemmer'dan daha agresif bir algoritmadır.\n",
    "Daha kısa ve hızlı sonuçlar verir, ancak bu da daha fazla hatalı sonuç anlamına gelebilir. Özellikle agresif yapısı nedeniyle, bazen kelimenin anlamını bozarak indirgeme yapabilir.\n",
    "Lancaster Stemmer, ekleri keserken oldukça serttir ve bu nedenle daha kısa kökler elde eder. Genellikle doğruluk oranı Porter ve Snowball Stemmer'a göre daha düşüktür.\n",
    "Örneğin, \"connection\" kelimesini \"connect\" yerine \"con\" olarak indirgemesi bu stemmer’ın agresif doğasını gösterir."
   ]
  },
  {
   "cell_type": "markdown",
   "id": "d6da5cc1-4ecd-4f9e-93d7-37d6d6aedc88",
   "metadata": {},
   "source": [
    "## Tokenization   \n",
    "Tokenization, metin işleme ve doğal dil işleme (NLP) alanında, bir metni daha küçük parçalara ayırma işlemidir. Bu parçalar genellikle kelimeler veya cümleler olabilir. Tokenization, metinlerin analiz edilmesi ve işlenmesi için önemli bir ilk adımdır, çünkü doğal dildeki metinler genellikle uzun ve karmaşıktır. Bu sayede metinler, makine öğrenimi modelleri veya diğer NLP işlemleri için daha kolay bir şekilde işlenebilir hale gelir."
   ]
  },
  {
   "cell_type": "markdown",
   "id": "6727511a-a676-481f-ae17-9e2a42dfaf55",
   "metadata": {},
   "source": [
    "## Stopwords    \n",
    "Durdurma kelimeleri, metin işleme ve doğal dil işleme (NLP) alanlarında, genellikle çok sık kullanılan ve anlam taşıma değeri düşük olan kelimelerdir. Bu kelimeler, metinlerin temel anlamına katkı sağlamazlar ve metin analizlerinde çoğunlukla göz ardı edilirler. Stopwords listesi dil bazında değişir, ancak örneğin Türkçe'de \"ve\", \"bu\", \"bir\", \"ile\", \"ama\", \"gibi\" gibi kelimeler stopwords olarak kabul edilir.\n",
    "\n",
    "Stopwords'in Önemi ve Kullanımı  \n",
    "Gereksiz Kelimeleri Çıkarma: Stopwords'leri kaldırarak metindeki anlamsız kelimelerden kurtulmak, metin analizini daha verimli hale getirir.  \n",
    "İşlem Hızını Artırma: Anlamsız kelimelerin kaldırılması, veri boyutunu küçültür ve analiz sürecini hızlandırır.  \n",
    "Doğru Anlam Çıkarma: Önemli kelimeleri öne çıkararak metnin anlamını daha iyi kavramaya yardımcı olur.  "
   ]
  },
  {
   "cell_type": "code",
   "execution_count": 2,
   "id": "1bd90742-c66a-4b75-aaa6-e232d1ad09dd",
   "metadata": {},
   "outputs": [],
   "source": [
    "from nltk.tokenize import word_tokenize\n",
    "from nltk.corpus import stopwords\n",
    "from nltk.stem import PorterStemmer, WordNetLemmatizer\n",
    "import string"
   ]
  },
  {
   "cell_type": "code",
   "execution_count": 3,
   "id": "edcf3601-3ce5-4400-acfe-6c1cc974f10a",
   "metadata": {},
   "outputs": [],
   "source": [
    "# ingilizce stopwordleri yükleme\n",
    "stop_words = stopwords.words('english')"
   ]
  },
  {
   "cell_type": "code",
   "execution_count": 4,
   "id": "9a3382e9-7a8d-4a8b-b5eb-44170bc01bd6",
   "metadata": {},
   "outputs": [],
   "source": [
    "sentence = \"The cats are RUNNING in the garden and playing with each other\""
   ]
  },
  {
   "cell_type": "code",
   "execution_count": 5,
   "id": "a3e22ea1-06d0-4141-be07-b45c4254a25d",
   "metadata": {},
   "outputs": [],
   "source": [
    "words = word_tokenize(sentence)"
   ]
  },
  {
   "cell_type": "code",
   "execution_count": 6,
   "id": "b1d87a3e-0f5d-44e6-b0ed-92960ff23446",
   "metadata": {},
   "outputs": [],
   "source": [
    "# küçük harfe dönüştürme ve noktalama işaretlerini kaldırma\n",
    "words = [word.lower() for word in words if word.isalnum()]"
   ]
  },
  {
   "cell_type": "code",
   "execution_count": 7,
   "id": "fc7183bb-5a30-4ac1-9dd4-cd7c5c9d0d13",
   "metadata": {},
   "outputs": [],
   "source": [
    "# stopwordsleri kaldırma\n",
    "words = [word for word in words if word not in stop_words]"
   ]
  },
  {
   "cell_type": "code",
   "execution_count": 8,
   "id": "122133a5-52da-4db5-8a10-fc3bd6f3ba07",
   "metadata": {},
   "outputs": [],
   "source": [
    "# Stemming (kök çıkarma)\n",
    "porter_stemmer = PorterStemmer()\n",
    "stemmed_words = [porter_stemmer.stem(word) for word in words]"
   ]
  },
  {
   "cell_type": "code",
   "execution_count": 9,
   "id": "3438cfa1-f573-47d3-921e-0679f5a494ab",
   "metadata": {},
   "outputs": [],
   "source": [
    "# Lemmatization (lematizasyon)\n",
    "wordnet_lemmatizer = WordNetLemmatizer()\n",
    "lemmatized_words = [wordnet_lemmatizer.lemmatize(word) for word in words]"
   ]
  },
  {
   "cell_type": "code",
   "execution_count": 10,
   "id": "06ff72b5-6206-4382-a7f5-c77aac763665",
   "metadata": {},
   "outputs": [
    {
     "name": "stdout",
     "output_type": "stream",
     "text": [
      "Orjinal Cümle: The cats are RUNNING in the garden and playing with each other\n",
      "Tokenlar: ['cats', 'running', 'garden', 'playing']\n",
      "Stemmed Kelimeler: ['cat', 'run', 'garden', 'play']\n",
      "Lemmatized Cümle: ['cat', 'running', 'garden', 'playing']\n"
     ]
    }
   ],
   "source": [
    "print(f\"Orjinal Cümle: {sentence}\")\n",
    "print(f\"Tokenlar: {words}\")\n",
    "print(f\"Stemmed Kelimeler: {stemmed_words}\")\n",
    "print(f\"Lemmatized Cümle: {lemmatized_words}\")"
   ]
  },
  {
   "cell_type": "code",
   "execution_count": 11,
   "id": "e7b3f134-1e33-41a9-a85f-a317967403b8",
   "metadata": {},
   "outputs": [
    {
     "name": "stdout",
     "output_type": "stream",
     "text": [
      "Orjinal Cümle: Kediler bahçede koşuyor ve birbirleriyle oynuyorlar\n",
      "Tokenlar: ['kediler', 'bahçede', 'koşuyor', 'birbirleriyle', 'oynuyorlar']\n",
      "Stemmed Kelimeler: ['kedil', 'bahçed', 'koşuyor', 'birbirleriyl', 'oynuyorlar']\n",
      "Lemmatized Cümle: ['kediler', 'bahçede', 'koşuyor', 'birbirleriyle', 'oynuyorlar']\n"
     ]
    }
   ],
   "source": [
    "from snowballstemmer import TurkishStemmer\n",
    "\n",
    "stop_words = stopwords.words('turkish')\n",
    "\n",
    "cumle = \"Kediler bahçede koşuyor ve birbirleriyle oynuyorlar\"\n",
    "\n",
    "words = word_tokenize(cumle)\n",
    "\n",
    "words = [word.lower() for word in words if word.isalnum()]\n",
    "\n",
    "words = [word for word in words if word not in stop_words]\n",
    "\n",
    "porter_stemmer = PorterStemmer()\n",
    "stemmed_words = [porter_stemmer.stem(word) for word in words]\n",
    "\n",
    "wordnet_lemmatizer = WordNetLemmatizer()\n",
    "lemmatized_words = [wordnet_lemmatizer.lemmatize(word) for word in words]\n",
    "\n",
    "print(f\"Orjinal Cümle: {cumle}\")\n",
    "print(f\"Tokenlar: {words}\")\n",
    "print(f\"Stemmed Kelimeler: {stemmed_words}\")\n",
    "print(f\"Lemmatized Cümle: {lemmatized_words}\")"
   ]
  },
  {
   "cell_type": "markdown",
   "id": "5e902f4f-b74a-4ebf-aa59-eca8c372a814",
   "metadata": {},
   "source": [
    "## Stopwords"
   ]
  },
  {
   "cell_type": "code",
   "execution_count": 13,
   "id": "4c09f9f7-ec13-4e14-a39d-f71c7904b66f",
   "metadata": {},
   "outputs": [],
   "source": [
    "from nltk.tokenize import word_tokenize\n",
    "from nltk.corpus import stopwords"
   ]
  },
  {
   "cell_type": "code",
   "execution_count": 15,
   "id": "9a08642f-3257-4e13-9264-9e4576dd5eba",
   "metadata": {},
   "outputs": [
    {
     "name": "stdout",
     "output_type": "stream",
     "text": [
      "Orjinal Sentences:\n",
      "- an example of a short sentence\n",
      "- a second short sentence\n",
      "\n",
      "Processed Sentences (Stopwords Removed):\n",
      "- example short sentence\n",
      "- second short sentence\n"
     ]
    }
   ],
   "source": [
    "# tokenizaiton ve stopwords'leri kaldırma fonksiyonu\n",
    "def removeStopWords(documents):\n",
    "    stop_words = set(stopwords.words(\"english\"))\n",
    "    result = []\n",
    "\n",
    "    for document in documents:\n",
    "        # Tokenization\n",
    "        words = word_tokenize(document)\n",
    "    \n",
    "        # Stopwordsleri kaldırma\n",
    "        filtered_words = [word for word in words if word.lower() not in stop_words]\n",
    "    \n",
    "        # Temizlenmiş cümleyi result listesine ekleme\n",
    "        result.append(\" \".join(filtered_words))\n",
    "        \n",
    "    return result\n",
    "\n",
    "#örnek cümleler\n",
    "cumleler = [\n",
    "        \"an example of a short sentence\",\n",
    "        \"a second short sentence\"\n",
    "]\n",
    "\n",
    "#tokenization ve stopwords'leri kaldırma işlemi\n",
    "yeni = removeStopWords(cumleler)\n",
    "\n",
    "#Sonucları yazdırma\n",
    "print(\"Orjinal Sentences:\")\n",
    "for cumle in cumleler:\n",
    "    print(f\"- {cumle}\")\n",
    "\n",
    "print(\"\\nProcessed Sentences (Stopwords Removed):\")\n",
    "for cumle in yeni:\n",
    "    print(f\"- {cumle}\")"
   ]
  },
  {
   "cell_type": "code",
   "execution_count": 21,
   "id": "396592b5-6990-4698-a19e-18afdeebfbb8",
   "metadata": {},
   "outputs": [],
   "source": [
    "# Belirtilen Kelimelerin Atılması, Belli Uzunluktaki Kelimelerin Atılması"
   ]
  },
  {
   "cell_type": "code",
   "execution_count": 23,
   "id": "46447eb9-0e7c-4f62-ac09-fc0439e2201a",
   "metadata": {},
   "outputs": [],
   "source": [
    "from nltk.tokenize import word_tokenize"
   ]
  },
  {
   "cell_type": "code",
   "execution_count": 24,
   "id": "75432e33-eec9-4964-b359-1059b86cd0ac",
   "metadata": {},
   "outputs": [
    {
     "name": "stdout",
     "output_type": "stream",
     "text": [
      "Orjinal sentences:\n",
      "- an example of a short sentence\n",
      "- a second short sentence\n",
      "\n",
      "Uzun kelimelerin atılması:\n",
      "- an example of a short\n",
      "- a second short\n",
      "\n",
      "Kısa kelimelerin atılması:\n",
      "- an example of short sentence\n",
      "- second short sentence\n",
      "\n",
      "Belirtilen kelimelerin atılması:\n",
      "- an example of a sentence\n",
      "- a sentence\n"
     ]
    }
   ],
   "source": [
    "# Tokenization fonksiyonu\n",
    "def tokenizedDocument(documents):\n",
    "    result = []\n",
    "    for document in documents:\n",
    "        words = word_tokenize(document)\n",
    "        result.append(words)\n",
    "    return result\n",
    "\n",
    "# Uzun kelimeleri kaldıran Fonksiyon\n",
    "def removeLongWords(documents, max_length):\n",
    "    result = []\n",
    "    for document in documents:\n",
    "        filtered_words = [word for word in document if len(word) <= max_length]\n",
    "        result.append(filtered_words)\n",
    "    return result\n",
    "\n",
    "# Kısa kelimeleri kaldıran Fonksiyon\n",
    "def removeShortWords(documents, min_length):\n",
    "    result = []\n",
    "    for document in documents:\n",
    "        filtered_words = [word for word in document if len(word) >= min_length]\n",
    "        result.append(filtered_words)\n",
    "    return result\n",
    "\n",
    "# Belirli kelimeleri kaldıran fonksiyon\n",
    "def removeWords(documents, words_to_remove):\n",
    "    result = []\n",
    "    for document in documents:\n",
    "        filtered_words = [word for word in document if word not in words_to_remove]\n",
    "        result.append(filtered_words)\n",
    "    return result\n",
    "\n",
    "# Örnek cümleler\n",
    "cumleler = [\n",
    "    \"an example of a short sentence\",\n",
    "        \"a second short sentence\"\n",
    "]\n",
    "\n",
    "# Tokenization işlemi\n",
    "dokuman = tokenizedDocument(cumleler)\n",
    "\n",
    "# Uzun kelimeleri kaldırma işlemi\n",
    "uzun = removeLongWords(dokuman, 7)\n",
    "\n",
    "# Kısa kelimeleri kaldırma işlemi\n",
    "kisa = removeShortWords(dokuman, 2)\n",
    "\n",
    "# Belirli kelimeleri kaldırma işlemi\n",
    "kelimeler = [\"short\", \"second\"]\n",
    "istenilenkelimeatimi = removeWords(dokuman, kelimeler)\n",
    "\n",
    "#Sonucları yazdırma\n",
    "print(\"Orjinal sentences:\")\n",
    "for cumle in cumleler:\n",
    "    print(f\"- {cumle}\")\n",
    "\n",
    "print(\"\\nUzun kelimelerin atılması:\")\n",
    "for filtered_cumle in uzun:\n",
    "    print(f\"- {' '.join(filtered_cumle)}\")\n",
    "\n",
    "print(\"\\nKısa kelimelerin atılması:\")\n",
    "for filtered_cumle in kisa:\n",
    "    print(f\"- {' '.join(filtered_cumle)}\")\n",
    "\n",
    "print(\"\\nBelirtilen kelimelerin atılması:\")\n",
    "for filtered_cumle in istenilenkelimeatimi:\n",
    "    print(f\"- {' '.join(filtered_cumle)}\")"
   ]
  },
  {
   "cell_type": "markdown",
   "id": "e4d345ea-5b71-4f95-9a6e-1b83bd21b759",
   "metadata": {},
   "source": [
    "## Tokenize"
   ]
  },
  {
   "cell_type": "code",
   "execution_count": 26,
   "id": "708fc61b-7256-4249-b118-3a4134b66a78",
   "metadata": {},
   "outputs": [
    {
     "name": "stdout",
     "output_type": "stream",
     "text": [
      "['This is an exampler document.', 'It has two sentences.', 'This document has one sentence and an emotion.', ':) Here is another example document.', ':D']\n"
     ]
    }
   ],
   "source": [
    "from nltk.tokenize import sent_tokenize\n",
    "\n",
    "cumleler = [\"This is an exampler document. It has two sentences\",\n",
    "           \"This document has one sentence and an emotion. :)\",\n",
    "           \"Here is another example document. :D\"]\n",
    "\n",
    "tokenlar = [sent_tokenize(cumle) for cumle in cumleler]\n",
    "\n",
    "ifade = \"This is an exampler document. It has two sentences. This document has one sentence and an emotion. :) Here is another example document. :D\"\n",
    "print(sent_tokenize(ifade))"
   ]
  },
  {
   "cell_type": "code",
   "execution_count": 27,
   "id": "df45e3e6-b3a3-49e8-b6a7-7cfc284b89bb",
   "metadata": {},
   "outputs": [],
   "source": [
    "import nltk\n",
    "from nltk.tokenize import sent_tokenize,  word_tokenize\n",
    "from tabulate import tabulate"
   ]
  },
  {
   "cell_type": "code",
   "execution_count": 28,
   "id": "83219e0f-b41d-421e-821b-fd0b9d9148d6",
   "metadata": {},
   "outputs": [
    {
     "name": "stderr",
     "output_type": "stream",
     "text": [
      "[nltk_data] Downloading package punkt to\n",
      "[nltk_data]     C:\\Users\\ranab\\AppData\\Roaming\\nltk_data...\n",
      "[nltk_data]   Package punkt is already up-to-date!\n"
     ]
    },
    {
     "data": {
      "text/plain": [
       "True"
      ]
     },
     "execution_count": 28,
     "metadata": {},
     "output_type": "execute_result"
    }
   ],
   "source": [
    "# önce nlk için gerekli kaynaklar indirilir\n",
    "nltk.download('punkt')"
   ]
  },
  {
   "cell_type": "code",
   "execution_count": 29,
   "id": "f40cd6ab-175e-4f7e-add4-42e9d10676ab",
   "metadata": {},
   "outputs": [],
   "source": [
    "# Verilen metin\n",
    "cumleler = [\"This is an exampler document. It has two sentences\",\n",
    "           \"This document has one sentence and an emotion. :)\",\n",
    "           \"Here is another example document. :D\"]"
   ]
  },
  {
   "cell_type": "code",
   "execution_count": 30,
   "id": "84acb736-3f89-4320-8b5e-a27d4b4cfc17",
   "metadata": {},
   "outputs": [
    {
     "name": "stdout",
     "output_type": "stream",
     "text": [
      "╒════════════════╤═══════════════╤══════════════╤════════════════════╤════════════════════╤════════════╤═══════════════╤════════════════╤═══════════════╤══════════════════════╕\n",
      "│                │               │              │                    │                    │            │               │                │ Token         │ POS Tag              │\n",
      "╞════════════════╪═══════════════╪══════════════╪════════════════════╪════════════════════╪════════════╪═══════════════╪════════════════╪═══════════════╪══════════════════════╡\n",
      "│ This           │ is            │ an           │ exampler           │ document           │ .          │ It            │ has            │ two           │ sentences            │\n",
      "├────────────────┼───────────────┼──────────────┼────────────────────┼────────────────────┼────────────┼───────────────┼────────────────┼───────────────┼──────────────────────┤\n",
      "│ ('This', 'DT') │ ('is', 'VBZ') │ ('an', 'DT') │ ('exampler', 'NN') │ ('document', 'NN') │ ('.', '.') │ ('It', 'PRP') │ ('has', 'VBZ') │ ('two', 'CD') │ ('sentences', 'NNS') │\n",
      "╘════════════════╧═══════════════╧══════════════╧════════════════════╧════════════════════╧════════════╧═══════════════╧════════════════╧═══════════════╧══════════════════════╛\n"
     ]
    }
   ],
   "source": [
    "# Cumleleri tokenleştir\n",
    "tokenlar = [word_tokenize(cumle) for cumle  in cumleler]\n",
    "\n",
    "# Token detayları al\n",
    "token_ayrinti = [(token, nltk.pos_tag(token)) for token in tokenlar]\n",
    "\n",
    "#token detaylarını ttablo olark göster\n",
    "print(tabulate(token_ayrinti[0], headers=['Token', 'POS Tag'], tablefmt='fancy_grid'))"
   ]
  },
  {
   "cell_type": "markdown",
   "id": "415f94cb-ed9c-4ca5-9cbe-a3e0211b7f2b",
   "metadata": {},
   "source": [
    "## Word Tokenize"
   ]
  },
  {
   "cell_type": "code",
   "execution_count": 32,
   "id": "b7738cde-c6bd-4744-9486-60eec89a9e0a",
   "metadata": {},
   "outputs": [
    {
     "name": "stdout",
     "output_type": "stream",
     "text": [
      "[['Haydarpaşa', 'garında'], ['1941', 'baharında'], ['saat', 'on', 'beş', '.'], ['Merdivenlerin', 'üstünde', 'güneş'], ['yorgunluk', 've', 'telâş'], ['Bir', 'adam'], ['merdivenlerde', 'duruyor'], ['bir', 'şeyler', 'düşünerek', '.'], ['Zayıf', '.'], ['Korkak', '.'], ['Burnu', 'sivri', 've', 'uzun'], ['yanaklarının', 'üstü', 'çopur', '.'], ['Merdivenlerdeki', 'adam'], ['-', 'Galip', 'Usta', '-'], ['tuhaf', 'şeyler', 'düşünmekle'], ['meşhurdur', ':'], ['‘', '’', 'Kâat', 'helvası', 'yesem', 'her', 'gün', '‘', '’', 'diye', 'düşündü'], ['5', 'yaşında', '.'], ['‘', '’', 'Mektebe', 'gitsem', '‘', '’', 'diye', 'düşündü'], ['10', 'yaşında', '.'], ['‘', '’', 'Babamın', 'bıçakçı', 'dükkânından'], ['Akşam', 'ezanından', 'önce', 'çıksam', '‘', '’', 'diye', 'düşündü', '.']]\n"
     ]
    }
   ],
   "source": [
    "import nltk\n",
    "import pandas as pd\n",
    "from nltk.tokenize import word_tokenize\n",
    "\n",
    "dosya = \"siir.txt\"\n",
    "\n",
    "with open(dosya, 'r', encoding='utf-8') as file:\n",
    "    str_metin = file.read()\n",
    "\n",
    "#Metni satırlara böl\n",
    "textData = str_metin.split('\\n')\n",
    "\n",
    "# Cümleleri tokenleştir\n",
    "tokenler = [word_tokenize(cumle)for cumle in textData]\n",
    "\n",
    "print(tokenler)\n",
    "\n"
   ]
  },
  {
   "cell_type": "markdown",
   "id": "46a820da-163c-4156-86aa-cc2fbe2f3827",
   "metadata": {},
   "source": [
    "## POS Taging "
   ]
  },
  {
   "cell_type": "code",
   "execution_count": 34,
   "id": "ac2e02c2-19ca-4f10-91f2-60f12584a6bf",
   "metadata": {},
   "outputs": [
    {
     "name": "stdout",
     "output_type": "stream",
     "text": [
      "╒════════════════╤════════════════════╤════════════════╤═══════════════╤════════════════════╤═══════════════╤══════════════╤═══════════════════╤════════════╤════════════╤════════════╕\n",
      "│                │                    │                │               │                    │               │              │                   │            │ Token      │ POS Tag    │\n",
      "╞════════════════╪════════════════════╪════════════════╪═══════════════╪════════════════════╪═══════════════╪══════════════╪═══════════════════╪════════════╪════════════╪════════════╡\n",
      "│ This           │ document           │ has            │ one           │ sentence           │ and           │ an           │ emotion           │ .          │ :          │ )          │\n",
      "├────────────────┼────────────────────┼────────────────┼───────────────┼────────────────────┼───────────────┼──────────────┼───────────────────┼────────────┼────────────┼────────────┤\n",
      "│ ('This', 'DT') │ ('document', 'NN') │ ('has', 'VBZ') │ ('one', 'CD') │ ('sentence', 'NN') │ ('and', 'CC') │ ('an', 'DT') │ ('emotion', 'NN') │ ('.', '.') │ (':', ':') │ (')', ')') │\n",
      "╘════════════════╧════════════════════╧════════════════╧═══════════════╧════════════════════╧═══════════════╧══════════════╧═══════════════════╧════════════╧════════════╧════════════╛\n"
     ]
    }
   ],
   "source": [
    "import nltk\n",
    "from nltk.tokenize import sent_tokenize,  word_tokenize\n",
    "from tabulate import tabulate\n",
    "\n",
    "# Verilen metin\n",
    "cumleler = [\"This is an exampler document. It has two sentences\",\n",
    "           \"This document has one sentence and an emotion. :)\",\n",
    "           \"Here is another example document. :D\"]\n",
    "\n",
    "# Cümleleri tokenleştir\n",
    "tokenler = [word_tokenize(cumle) for cumle in cumleler]\n",
    "\n",
    "# Token detayları için\n",
    "token_Ayrinti = [(token, nltk.pos_tag(token)) for token in tokenler]\n",
    "\n",
    "# Token detaylarını tablo olarak göster\n",
    "print(tabulate(token_ayrinti[1], headers=['Token', 'POS Tag'], tablefmt='fancy_grid'))"
   ]
  },
  {
   "cell_type": "markdown",
   "id": "dc1d2b69-64d2-41e2-abfa-371f9fadf74f",
   "metadata": {},
   "source": [
    "## BAG OF WORDS (KELİME ÇANTASI)"
   ]
  },
  {
   "cell_type": "markdown",
   "id": "b4a6c635-dc19-4c23-a469-43074897ddc2",
   "metadata": {},
   "source": [
    "Bag of Words (BoW), doğal dil işleme (NLP) ve metin madenciliği alanlarında kullanılan basit ve popüler bir metin temsil yöntemidir. Bu yöntem, bir metindeki kelimelerin sıklığını dikkate alarak metni bir vektör olarak temsil eder, ancak kelimelerin dizilişini veya bağlamını dikkate almaz.\n",
    "\n",
    "Bag of Words Nasıl Çalışır?\n",
    "Kelime Sıklığı Hesaplama:\n",
    "\n",
    "İlk olarak, tüm metinlerde geçen benzersiz kelimelerden bir kelime listesi (sözlük) oluşturulur.\n",
    "Her bir metin, bu kelimelerin bulunduğu bir vektöre dönüştürülür.\n",
    "Vektör, her kelimenin kaç kez geçtiğini gösterir."
   ]
  },
  {
   "cell_type": "code",
   "execution_count": 37,
   "id": "3b184b83-b1bd-44b9-a416-141e90544ea5",
   "metadata": {},
   "outputs": [
    {
     "name": "stdout",
     "output_type": "stream",
     "text": [
      "Kelime Çantası Matrisi:\n",
      "[[0 1 0 1 0 0 0 1 1 0 0]\n",
      " [0 1 1 0 0 1 1 0 0 0 0]\n",
      " [1 0 0 0 1 0 0 0 0 1 1]]\n",
      "\n",
      "Kelimeler:\n",
      "['bugün' 'document' 'emotion' 'exampler' 'hava' 'one' 'sentence'\n",
      " 'sentences' 'two' 'yağışlı' 'çok']\n",
      " - This is an exampler document. It has two sentences\n",
      " - This document has one sentence and an emotion. \n",
      " - bugün hava çok yağışlı\n",
      "\n",
      "Tokenize Dökümanlr:\n",
      " - exampler document two sentences\n",
      " - document one sentence emotion\n",
      " - bugün hava çok yağışlı\n"
     ]
    }
   ],
   "source": [
    "import numpy as np\n",
    "from sklearn.feature_extraction.text import CountVectorizer\n",
    "from nltk.tokenize import word_tokenize\n",
    "from  nltk.corpus import stopwords\n",
    "\n",
    "# Verilen metin\n",
    "documents = [\"This is an exampler document. It has two sentences\",\n",
    "           \"This document has one sentence and an emotion. \",\n",
    "           \"bugün hava çok yağışlı\"]\n",
    "\n",
    "#Tokenize ve Stopwords\n",
    "def tokenize_and_remove_stopwords(documents):\n",
    "    words = word_tokenize(documents)\n",
    "    stop_words = set(stopwords.words('english'))\n",
    "    words = [word.lower() for word in words if word.isalnum() and word.lower() not in stop_words]\n",
    "    return words\n",
    "\n",
    "tokenized_documents = [' '.join(tokenize_and_remove_stopwords(doc)) for doc in documents]\n",
    "\n",
    "# CountVectorize ile kelime çantalarının oluşturulması\n",
    "vectorizer = CountVectorizer()\n",
    "bag_of_words = vectorizer.fit_transform(tokenized_documents)\n",
    "\n",
    "# kelime çantası matrisi\n",
    "bow_array = bag_of_words.toarray()\n",
    "\n",
    "# matrisin gösterimş\n",
    "print(\"Kelime Çantası Matrisi:\")\n",
    "print(bow_array)\n",
    "\n",
    "#kelimeler\n",
    "feature_names = vectorizer.get_feature_names_out()\n",
    "\n",
    "# kelimelerin gösterilmesi\n",
    "print(\"\\nKelimeler:\")\n",
    "print(feature_names)\n",
    "\n",
    "# Orjinal Dökümanlar\n",
    "for doc in documents:\n",
    "    print(f\" - {doc}\")\n",
    "\n",
    "# kelimelerin gösterilmesi\n",
    "print(\"\\nTokenize Dökümanlr:\")\n",
    "for doc in tokenized_documents:\n",
    "    print(f\" - {doc}\")"
   ]
  },
  {
   "cell_type": "markdown",
   "id": "d7f7fd2e-317b-425e-979f-b7522ba3d21f",
   "metadata": {},
   "source": [
    "## Elenmiş Kelime Çantası"
   ]
  },
  {
   "cell_type": "code",
   "execution_count": 39,
   "id": "22066947-dbb0-457c-b783-43c76873de5f",
   "metadata": {},
   "outputs": [],
   "source": [
    "from sklearn.feature_extraction.text import CountVectorizer\n",
    "from nltk.tokenize import word_tokenize\n",
    "from nltk.corpus import stopwords\n",
    "import numpy"
   ]
  },
  {
   "cell_type": "code",
   "execution_count": 40,
   "id": "f5407a97-fc28-4c0e-89bd-89799790e074",
   "metadata": {},
   "outputs": [
    {
     "name": "stdout",
     "output_type": "stream",
     "text": [
      "\n",
      "Orijinal Dökümanlar:\n",
      " - kısa bir cümle örneği\n",
      " - ikinci kısa cümle\n",
      " - başka bir örnek\n",
      " - kısa bir örnek\n",
      "\n",
      "Tokenize Edilmiş Dökümanlar:\n",
      " - kısa bir cümle örneği\n",
      " - ikinci kısa cümle\n",
      " - başka bir örnek\n",
      " - kısa bir örnek\n",
      "\n",
      "Bag of Words Matrisi:\n",
      "[[0 1 1 0 1 0 1]\n",
      " [0 0 1 1 1 0 0]\n",
      " [1 1 0 0 0 1 0]\n",
      " [0 1 0 0 1 1 0]]\n",
      "\n",
      "Özellik (kelime) İndeksleri:\n",
      "['bir', 'cümle', 'kısa', 'örnek']\n",
      "\n",
      "Filtrelenmiş Bag Of Words Matrisi:\n",
      "[[1 1 1 0]\n",
      " [0 1 1 0]\n",
      " [1 0 0 1]\n",
      " [1 0 1 1]]\n"
     ]
    }
   ],
   "source": [
    "import numpy as np\n",
    "from nltk.corpus import stopwords\n",
    "from nltk.tokenize import word_tokenize\n",
    "from sklearn.feature_extraction.text import CountVectorizer\n",
    "\n",
    "# Tokenize ve Stopwords\n",
    "def tokenize_and_remove_stopwords(document):\n",
    "    words = word_tokenize(document)\n",
    "    stop_words = set(stopwords.words('english'))\n",
    "    words = [word.lower() for word in words if word.isalnum() and word.lower() not in stop_words]\n",
    "    return words\n",
    "\n",
    "def tokenizeDocument(documents):\n",
    "    result = []\n",
    "    for document in documents:\n",
    "        words = tokenize_and_remove_stopwords(document)\n",
    "        result.append(' '.join(words))\n",
    "    return result\n",
    "\n",
    "def bagOfWords(documents):\n",
    "    vectorizer = CountVectorizer()\n",
    "    bag = vectorizer.fit_transform(documents)\n",
    "    return bag, vectorizer.get_feature_names_out()\n",
    "\n",
    "def removeInfrequentWords(bag, feature_names, count):\n",
    "    word_frequencies = np.array(bag.sum(axis=0))[0]\n",
    "    selected_word_indices = np.where(word_frequencies >= count)[0]\n",
    "    selected_words = [feature_names[i] for i in selected_word_indices]\n",
    "    filtered_bag = bag[:, selected_word_indices]\n",
    "    return filtered_bag, selected_words\n",
    "\n",
    "documents = [\n",
    "    \"kısa bir cümle örneği\",\n",
    "    \"ikinci kısa cümle\",\n",
    "    \"başka bir örnek\",\n",
    "    \"kısa bir örnek\"\n",
    "]\n",
    "\n",
    "# Tokenizasyon ve stopwords'leri kaldırma\n",
    "tokenized_documents = tokenizeDocument(documents)\n",
    "\n",
    "# Bag of words oluşturma\n",
    "bag, feature_names = bagOfWords(tokenized_documents)\n",
    "\n",
    "# Seyrek kelimeleri kaldırma\n",
    "count = 2\n",
    "newBag, selected_words = removeInfrequentWords(bag, feature_names, count)\n",
    "\n",
    "# kelimelerin gösterilmesi\n",
    "print(\"\\nOrijinal Dökümanlar:\")\n",
    "for doc in documents:\n",
    "    print(f\" - {doc}\")\n",
    "\n",
    "print(\"\\nTokenize Edilmiş Dökümanlar:\")\n",
    "for doc in tokenized_documents:\n",
    "    print(f\" - {doc}\")\n",
    "\n",
    "print(\"\\nBag of Words Matrisi:\")\n",
    "print(bag.toarray())\n",
    "\n",
    "print(\"\\nÖzellik (kelime) İndeksleri:\")\n",
    "print(selected_words)\n",
    "\n",
    "print(\"\\nFiltrelenmiş Bag Of Words Matrisi:\")\n",
    "print(newBag.toarray())\n"
   ]
  },
  {
   "cell_type": "markdown",
   "id": "2277df36-ba6d-4b83-b26a-cb288c0d365f",
   "metadata": {},
   "source": [
    "# Noktalama İşaretlerinin Silinmesi"
   ]
  },
  {
   "cell_type": "code",
   "execution_count": 52,
   "id": "a7d5780f-6927-401d-b13f-a113f9c01108",
   "metadata": {},
   "outputs": [
    {
     "name": "stdout",
     "output_type": "stream",
     "text": [
      "Orjinal String: it's one and/or two.\n",
      "Noktalama Simgelerin silinmesi: its one andor two\n"
     ]
    }
   ],
   "source": [
    "import string\n",
    "\n",
    "def erasPunctuation(input_str):\n",
    "    # Translate fonksiyonu için çeviri tablosu oluşturma\n",
    "    translator = str.maketrans(\"\", \"\", string.punctuation)\n",
    "\n",
    "    # Noktalama işaretleri kaldırma\n",
    "    result_str = input_str.translate(translator)\n",
    "\n",
    "    return result_str\n",
    "\n",
    "# Örnek cümle\n",
    "str_example = \"it's one and/or two.\"\n",
    "\n",
    "# Noktalama işaretleerini kaldırma işlemi\n",
    "new_str = erasPunctuation(str_example)\n",
    "\n",
    "# Sonuçları yazdırma\n",
    "print(\"Orjinal String:\", str_example)\n",
    "print(\"Noktalama Simgelerin silinmesi:\", new_str)"
   ]
  },
  {
   "cell_type": "markdown",
   "id": "e16e57b7-aad2-4641-a7de-178413dea680",
   "metadata": {},
   "source": [
    "# KELİME TEMSİLİ (WORD EMBEDDİNG)"
   ]
  },
  {
   "cell_type": "markdown",
   "id": "fedbea93-5fdb-4c4c-8c75-b428721517fa",
   "metadata": {},
   "source": [
    "Word Embedding, kelimeleri sayısal vektörler olarak temsil eden bir tekniktir. Kelimelerin anlamsal benzerliklerini ve ilişkilerini koruyarak çok boyutlu bir uzayda konumlandırır. Böylece, doğal dil işleme (NLP) görevlerinde kelimeler arasındaki anlam ilişkileri anlaşılabilir ve analiz edilebilir hale gelir.\n",
    "   \n",
    "Temel Yöntemler:\n",
    "Word2Vec: Google tarafından geliştirilen, CBOW ve Skip-Gram mimarilerini kullanan popüler bir yöntem.\n",
    "GloVe: Kelimeler arasındaki global ilişkileri hesaba katan, Stanford'un geliştirdiği bir yöntem.\n",
    "FastText: Facebook tarafından geliştirilen, kelimeleri n-gram'lere ayırarak nadir kelimeler için daha etkili bir temsil sunan yöntem."
   ]
  },
  {
   "cell_type": "markdown",
   "id": "716771a6-0907-42c7-8804-61cc03d0fa92",
   "metadata": {},
   "source": [
    "## Word2Vec\n",
    "\n",
    "Word2Vec, kelimeleri çok boyutlu sayısal vektörler olarak temsil eden ve kelimeler arasındaki anlamsal ilişkileri öğrenen bir doğal dil işleme (NLP) algoritmasıdır. Google tarafından geliştirilmiştir ve özellikle metin verilerinde kelimeler arasındaki bağlamı modellemek için kullanılır.\n",
    "\n",
    "Word2Vec Nasıl Çalışır?\n",
    "Word2Vec, kelimeleri sayısal vektörlere dönüştürmek için iki temel mimari kullanır:\n",
    "\n",
    "CBOW (Continuous Bag of Words):\n",
    "\n",
    "Çevredeki kelimeleri kullanarak bir hedef kelimeyi tahmin eder.\n",
    "Örneğin, \"Bu ___ harika bir film\" gibi bir cümlede boşluğa \"film\" kelimesi gelmelidir.\n",
    "CBOW, daha hızlıdır ve küçük veri kümelerinde iyi performans gösterir.\n",
    "Skip-Gram:\n",
    "\n",
    "Hedef kelimeden hareketle çevresindeki kelimeleri tahmin eder.\n",
    "Örneğin, \"harika\" kelimesinden \"Bu\" ve \"bir\" gibi çevre kelimeleri tahmin etmeye çalışır.\n",
    "Büyük veri kümelerinde anlam ilişkilerini daha doğru bir şekilde yakalar ve nadir kelimeler için daha iyi performans sağlar."
   ]
  },
  {
   "cell_type": "code",
   "execution_count": 73,
   "id": "4ee85a86-e60b-4f44-afa2-aad703e5ab27",
   "metadata": {
    "scrolled": true
   },
   "outputs": [
    {
     "name": "stdout",
     "output_type": "stream",
     "text": [
      "Benzer Kelimeler\n",
      "using: 0.16373275220394135\n",
      ",: 0.14606192708015442\n",
      "hello: 0.07479964941740036\n",
      "gensim: 0.05055420845746994\n",
      "this: 0.041786640882492065\n"
     ]
    }
   ],
   "source": [
    "from gensim.models import Word2Vec\n",
    "from nltk.tokenize import word_tokenize\n",
    "import nltk\n",
    "\n",
    "\n",
    "# Örnek ingilizce metin verisi\n",
    "english_text = \"Hello, this is an example English text. We will train a Word2Vec model using the Gensim Library.\"\n",
    "\n",
    "# Metni küçükharfe çevir ve tokenlara ayırma\n",
    "tokenized_text = word_tokenize(english_text.lower()) \n",
    "\n",
    "# word2Vec modelini eğitme\n",
    "model = Word2Vec([tokenized_text], vector_size=100, window=5, min_count=1, workers=4)\n",
    "\n",
    "# Modeli kaydetme\n",
    "model.save(\"word2vecmodel_en.bin\")\n",
    "\n",
    "# Örnek kullanım\n",
    "similar_words = model.wv.most_similar('example', topn=5)\n",
    "print(\"Benzer Kelimeler\")\n",
    "for word, score in similar_words:\n",
    "    print(f\"{word}: {score}\")"
   ]
  },
  {
   "cell_type": "code",
   "execution_count": 71,
   "id": "d2695303-8a3d-4445-8e99-228e5b96ff20",
   "metadata": {},
   "outputs": [
    {
     "name": "stdout",
     "output_type": "stream",
     "text": [
      "Apple Inc.: ORG\n",
      "Steve J.obs: PERSON\n",
      "Steve Wozniak: PERSON\n",
      "California: GPE\n",
      "april 1, 1976: DATE\n"
     ]
    }
   ],
   "source": [
    "import spacy\n",
    "\n",
    "nlp = spacy.load(\"en_core_web_sm\")\n",
    "\n",
    "# örnek metin\n",
    "text = \"Apple Inc. was founded by Steve J.obs and Steve Wozniak in California on april 1, 1976.\"\n",
    "\n",
    "# Metin işleme\n",
    "doc = nlp(text)\n",
    "\n",
    "# Tanımlanan varlıkalrı görüntüleme\n",
    "for ent in doc.ents:\n",
    "    print(f\"{ent.text}: {ent.label_}\")"
   ]
  },
  {
   "cell_type": "markdown",
   "id": "ef9f2588-9af2-4747-8153-a78ba088516d",
   "metadata": {},
   "source": [
    "# txt dosyalarından okuma "
   ]
  },
  {
   "cell_type": "code",
   "execution_count": 78,
   "id": "5fb4ed80-ebea-4e55-9544-94f89c44e014",
   "metadata": {},
   "outputs": [
    {
     "name": "stdout",
     "output_type": "stream",
     "text": [
      "Haydarpaşa garında\n",
      "1941 baharında\n",
      "saat on beş.\n",
      "Merdivenlerin üstünde güneş\n",
      "yorgunluk ve telâş\n",
      "Bir adam\n",
      "merdivenlerde duruyor\n",
      "bir şeyler düşünerek.\n",
      "Zayıf.\n",
      "Korkak.\n",
      "Burnu sivri ve uzun\n",
      "yanaklarının üstü çopur.\n",
      "Merdivenlerdeki adam\n",
      "- Galip Usta -\n",
      "tuhaf şeyler düşünmekle\n",
      "meşhurdur:\n",
      "‘’ Kâat helvası yesem her gün ‘’ diye düşündü\n",
      "5 yaşında.\n",
      "‘’ Mektebe gitsem ‘’ diye düşündü\n",
      "10 yaşında.\n",
      "‘’ Babamın bıçakçı dükkânından\n",
      "Akşam ezanından önce çıksam ‘’ diye düşündü.\n"
     ]
    }
   ],
   "source": [
    "dosya_adi = \"siir.txt\"\n",
    "\n",
    "with open(dosya_adi, 'r', encoding = \"utf-8\") as dosya:\n",
    "    metin = dosya.read()\n",
    "print(metin)"
   ]
  },
  {
   "cell_type": "markdown",
   "id": "08ea5a35-a1d0-4599-9cbb-3ed91cad2b1f",
   "metadata": {},
   "source": [
    "# word dosyasından okuma"
   ]
  },
  {
   "cell_type": "code",
   "execution_count": 94,
   "id": "97ae4942-ab3a-4f90-920b-c20ab3653561",
   "metadata": {},
   "outputs": [
    {
     "name": "stdout",
     "output_type": "stream",
     "text": [
      "Haydarpaşa garında\n",
      "1941 baharında\n",
      "saat on beş.\n",
      "Merdivenlerin üstünde güneş\n",
      "yorgunluk ve telâş\n",
      "Bir adam\n",
      "merdivenlerde duruyor\n",
      "bir şeyler düşünerek.\n",
      "Zayıf.\n",
      "Korkak.\n",
      "Burnu sivri ve uzun\n",
      "yanaklarının üstü çopur.\n",
      "Merdivenlerdeki adam\n",
      "- Galip Usta -\n",
      "tuhaf şeyler düşünmekle\n",
      "meşhurdur:\n",
      "‘’ Kâat helvası yesem her gün ‘’ diye düşündü\n",
      "5 yaşında.\n",
      "‘’ Mektebe gitsem ‘’ diye düşündü\n",
      "10 yaşında.\n",
      "‘’ Babamın bıçakçı dükkânından\n",
      "Akşam ezanından önce çıksam ‘’ diye düşündü.\n"
     ]
    }
   ],
   "source": [
    "from docx import Document\n",
    "\n",
    "def read_word_document(file_path):\n",
    "    doc = Document(file_path)\n",
    "    content = []\n",
    "\n",
    "    for paragraph in doc.paragraphs:\n",
    "        content.append(paragraph.text)\n",
    "\n",
    "    return '\\n'.join(content)\n",
    "\n",
    "# word belgesi okuma\n",
    "filename = \"siir.docx\"\n",
    "content = read_word_document(filename)\n",
    "\n",
    "# Okunan metni ekrana yazdırma\n",
    "print(content)"
   ]
  },
  {
   "cell_type": "markdown",
   "id": "f71babd7-3f72-4bad-b218-372a8ea4e600",
   "metadata": {},
   "source": [
    "# pdf dosyası okuma"
   ]
  },
  {
   "cell_type": "code",
   "execution_count": 111,
   "id": "11193e24-ed9e-46c9-af24-676468a28ce2",
   "metadata": {},
   "outputs": [
    {
     "name": "stdout",
     "output_type": "stream",
     "text": [
      "Haydarpaşa garında\n",
      "1941 baharında\n",
      "saat on beş.\n",
      "Merdivenlerin üstünde güneş\n",
      "yorgunluk ve telâş\n",
      "Bir adam\n",
      "merdivenlerde duruyor\n",
      "bir şeyler düşünerek.\n",
      "Zayıf.\n",
      "Korkak.\n",
      "Burnu sivri ve uzun\n",
      "yanaklarının üstü çopur.\n",
      "Merdivenlerdeki adam\n",
      "- Galip Usta -\n",
      "tuhaf şeyler düşünmekle\n",
      "meşhurdur:\n",
      "‘’ Kâat helvası yesem her gün ‘’ diye düşündü\n",
      "5 yaşında.\n",
      "‘’ Mektebe gitsem ‘’ diye düşündü\n",
      "10 yaşında.\n",
      "‘’ Babamın bıçakçı dükkânından\n",
      "Akşam ezanından önce çıksam ‘’ diye düşündü.\n"
     ]
    }
   ],
   "source": [
    "import PyPDF2\n",
    "\n",
    "def read_pdf(file_path):\n",
    "    text = \"\"\n",
    "    with open(file_path, 'rb') as file:\n",
    "        pdf_reader = PyPDF2.PdfReader(file)\n",
    "        for page_num in range(len(pdf_reader.pages)):\n",
    "            page = pdf_reader.pages[page_num]\n",
    "            text += page.extract_text()\n",
    "    return text\n",
    "    \n",
    "# PDF dosyası okuma\n",
    "pdf_file_name = \"siir.pdf\"\n",
    "contect = read_pdf(pdf_file_name)\n",
    "\n",
    "# okunan metni ekrana yazdırma\n",
    "print(content)"
   ]
  },
  {
   "cell_type": "markdown",
   "id": "373ce81f-5d6a-430d-9354-3b2fa332dc09",
   "metadata": {},
   "source": [
    "# excel dosyalarından okuma"
   ]
  },
  {
   "cell_type": "code",
   "execution_count": null,
   "id": "b9ad7d80-eadb-4ba8-a39d-4552ccc75c86",
   "metadata": {},
   "outputs": [],
   "source": [
    "import pandas as pd\n",
    "\n",
    "def read_excel(file_path, sheet_name):\n",
    "    df = pd.read_excel(file_path, sheet_name = sheet_name)\n",
    "    #okunan veriyi ekrana yazdırma\n",
    "    print(df)\n",
    "\n",
    "    return df\n",
    "\n",
    "excel_filename = \"siir.xlsx\"\n",
    "\n",
    "data_frame = read_excel(excel_filname, \"Sayfa1\")"
   ]
  },
  {
   "cell_type": "markdown",
   "id": "389fdec1-b2df-473c-b993-43ea09a80d9f",
   "metadata": {},
   "source": [
    "# HTML dosyasından okuma"
   ]
  },
  {
   "cell_type": "code",
   "execution_count": null,
   "id": "569f18e7-cf44-49eb-ab46-5db29dbfb6dc",
   "metadata": {},
   "outputs": [],
   "source": [
    "import chardet\n",
    "\n",
    "def detect_encoding(file_path):\n",
    "    with open(file_path, 'rb') as file:\n",
    "        result = chardet.detect(file.read())\n",
    "        return result['encoding']\n",
    "\n",
    "# dosyanın karakter kodlamasını belirleme\n",
    "encoding = detect_encoding(\"siir.htm\")\n",
    "print(f\"Dosyanın akrakter kodlaması: {encoding}\")\n",
    "\n",
    "# dosyayı bu karakter kodlamasıyla açma\n",
    "with open(\"siir.htm\", 'r', encoding = encoding) as file:\n",
    "    html_content= file.read()\n",
    "    print(html_content)"
   ]
  },
  {
   "cell_type": "markdown",
   "id": "6ea6a39d-751f-4190-bc0e-6d61bdc82d74",
   "metadata": {},
   "source": [
    "# Kelime bulutu "
   ]
  },
  {
   "cell_type": "markdown",
   "id": "04bb5edf-bc58-4deb-b619-15b514070701",
   "metadata": {},
   "source": [
    "Kelime bulutu (word cloud), metin verilerindeki en sık kullanılan kelimeleri görsel olarak ifade eden bir grafik gösterimidir. Kelimelerin sıklığına bağlı olarak boyutları ve bazen renkleri de değişir. Kelime bulutları, metinde hangi kelimelerin öne çıktığını hızlıca görselleştirmek ve analiz etmek için kullanılır."
   ]
  },
  {
   "cell_type": "code",
   "execution_count": 130,
   "id": "fe965233-ef1d-45e5-9e87-ae2102d8c054",
   "metadata": {},
   "outputs": [
    {
     "data": {
      "image/png": "[encoded data removed]",
      "text/plain": [
       "<Figure size 1000x500 with 1 Axes>"
      ]
     },
     "metadata": {},
     "output_type": "display_data"
    }
   ],
   "source": [
    "from wordcloud import WordCloud\n",
    "import matplotlib.pyplot as plt\n",
    "\n",
    "# .txt dosyasından metin okuma\n",
    "def read_text_file(file_path):\n",
    "    with open(file_path, 'r', encoding='utf-8') as file:\n",
    "        text = file.read()\n",
    "    return text\n",
    "\n",
    "# Kelime bulutu oluşturma\n",
    "def create_word_cloud(text):\n",
    "    wordcloud = WordCloud(width=800, height=400, background_color='white').generate(text)\n",
    "    return wordcloud\n",
    "\n",
    "# Dosya yolunu belirtin\n",
    "file_path = 'siir.txt'\n",
    "text = read_text_file(file_path)\n",
    "\n",
    "# Kelime bulutunu oluşturma ve görselleştirme\n",
    "wordcloud = create_word_cloud(text)\n",
    "plt.figure(figsize=(10, 5))\n",
    "plt.imshow(wordcloud, interpolation='bilinear')\n",
    "plt.axis('off')\n",
    "plt.show()\n"
   ]
  },
  {
   "cell_type": "markdown",
   "id": "231d2609-3d03-45da-8368-91e007637ce1",
   "metadata": {},
   "source": [
    "# TF-IDF"
   ]
  },
  {
   "cell_type": "markdown",
   "id": "b4feecc8-d84c-45eb-8570-789f874d9c6d",
   "metadata": {},
   "source": [
    "TF-IDF (Term Frequency - Inverse Document Frequency), bir kelimenin bir belgedeki önemini ölçmek için kullanılan istatistiksel bir yöntemdir. Bu yöntem, bir kelimenin bir belge içinde ne kadar sık geçtiğini ve aynı zamanda tüm belgeler arasında ne kadar yaygın olduğunu dikkate alarak kelimenin önemini belirler. TF-IDF, metin madenciliği ve bilgi alma gibi doğal dil işleme (NLP) uygulamalarında yaygın olarak kullanılır.\n",
    "\n",
    "Ters Terim Frekansı (İngilizcesi: Inverse Document Frequency, kısaca IDF), bir kelimenin tüm belgeler arasındaki yaygınlığını ölçen bir istatistiktir. TF-IDF algoritmasının bir parçasıdır ve kelimenin belgedeki önemini belirlerken, tüm belgeler arasında ne kadar nadir bulunduğunu dikkate alır. Bir kelime ne kadar nadirse, IDF değeri o kadar yüksek olur; yaygın kelimeler ise daha düşük IDF değerlerine sahiptir.\n",
    "\n",
    "TF ve IDF Kavramları:\n",
    "\n",
    "TF (Term Frequency):\n",
    "\n",
    "Bir kelimenin bir belgede ne sıklıkla geçtiğini ifade eder.\n",
    "Her kelimenin o belge içindeki geçiş sayısının, toplam kelime sayısına bölünmesiyle hesaplanır.\n",
    " \n",
    "IDF (Inverse Document Frequency):\n",
    "\n",
    "Kelimenin belgeler arasında ne kadar yaygın veya nadir olduğunu gösterir.\n",
    "Kelimenin geçtiği toplam belge sayısının, kelimenin geçtiği belge sayısına bölünmesiyle hesaplanır ve bu oran logaritma ile alınır.\n",
    "Yaygın kelimelerin (örneğin, \"the\", \"and\") IDF değeri düşük olurken, nadir kelimelerin (örneğin, \"Python\", \"algorithm\") IDF değeri yüksek olur.\n",
    "\n",
    "TF-IDF Hesaplaması:\n",
    "\n",
    "Bir kelimenin TF değeri ile IDF değeri çarpılarak hesaplanır: \n",
    "\n",
    "TF-IDF=TF×IDF.    \n",
    "Bu çarpım sonucu, belgede sık geçen ve aynı zamanda tüm belgeler arasında nadir olan kelimeler yüksek TF-IDF değerine sahip olur.\n",
    "TF-IDF Kullanım Alanları:\n",
    "Bilgi Alma: Arama motorları, kullanıcının arama sorgusuyla en çok eşleşen belgeleri bulmak için TF-IDF kullanır.\n",
    "Metin Sınıflandırma: Belgelerdeki önemli kelimeleri seçerek belge sınıflandırmada kullanılır.\n",
    "Özetleme: Özetleme algoritmaları, önemli kelimeleri seçmek için TF-IDF'i kullanabilir."
   ]
  },
  {
   "cell_type": "code",
   "execution_count": 161,
   "id": "f0aad8b3-2971-46b4-be02-2eb12bcc8f2d",
   "metadata": {},
   "outputs": [
    {
     "name": "stdout",
     "output_type": "stream",
     "text": [
      "Kelime Özellikleri (Vocabulary):\n",
      "{'haydarpaşa': 22, 'garında': 18, '1941': 1, 'baharında': 5, 'saat': 33, 'on': 32, 'beş': 6, 'merdivenlerin': 30, 'üstünde': 49, 'güneş': 21, 'yorgunluk': 43, 've': 39, 'telâş': 35, 'bir': 7, 'adam': 2, 'merdivenlerde': 28, 'duruyor': 11, 'şeyler': 50, 'düşünerek': 14, 'zayıf': 44, 'korkak': 25, 'burnu': 8, 'sivri': 34, 'uzun': 38, 'yanaklarının': 40, 'üstü': 48, 'çopur': 45, 'merdivenlerdeki': 29, 'galip': 17, 'usta': 37, 'tuhaf': 36, 'düşünmekle': 15, 'meşhurdur': 31, 'kâat': 26, 'helvası': 23, 'yesem': 42, 'her': 24, 'gün': 20, 'diye': 10, 'düşündü': 13, 'yaşında': 41, 'mektebe': 27, 'gitsem': 19, '10': 0, 'babamın': 4, 'bıçakçı': 9, 'dükkânından': 12, 'akşam': 3, 'ezanından': 16, 'önce': 47, 'çıksam': 46}\n",
      "\n",
      "\n",
      "Yeni Belgelerin TF-IDF Matrisi:\n",
      "[[0. 0. 0. 0. 0. 0. 0. 0. 0. 0. 0. 0. 0. 0. 0. 0. 0. 0. 0. 0. 0. 0. 0. 0.\n",
      "  0. 0. 0. 0. 0. 0. 0. 0. 0. 0. 0. 0. 0. 0. 0. 0. 0. 0. 0. 0. 0. 0. 0. 0.\n",
      "  0. 0. 0.]\n",
      " [0. 0. 0. 0. 0. 0. 0. 0. 0. 0. 0. 0. 0. 0. 0. 0. 0. 0. 0. 0. 0. 0. 0. 0.\n",
      "  0. 0. 0. 0. 0. 0. 0. 0. 0. 0. 0. 0. 0. 0. 0. 0. 0. 0. 0. 0. 0. 0. 0. 0.\n",
      "  0. 0. 0.]\n",
      " [0. 0. 0. 0. 0. 0. 0. 0. 0. 0. 0. 0. 0. 0. 0. 0. 0. 0. 0. 0. 0. 0. 0. 0.\n",
      "  0. 0. 0. 0. 0. 0. 0. 0. 0. 0. 0. 0. 0. 0. 0. 0. 0. 0. 0. 0. 0. 0. 0. 0.\n",
      "  0. 0. 0.]]\n"
     ]
    },
    {
     "name": "stderr",
     "output_type": "stream",
     "text": [
      "[nltk_data] Downloading package punkt to\n",
      "[nltk_data]     C:\\Users\\ranab\\AppData\\Roaming\\nltk_data...\n",
      "[nltk_data]   Package punkt is already up-to-date!\n"
     ]
    }
   ],
   "source": [
    "from sklearn.feature_extraction.text import TfidfVectorizer\n",
    "from nltk.tokenize import word_tokenize \n",
    "import nltk\n",
    "\n",
    "# NLTK için 'punkt' veri kümesini indir\n",
    "nltk.download('punkt')\n",
    "\n",
    "# Dosyadan veri okuma\n",
    "filename = \"siir.txt\"\n",
    "with open(filename, 'r', encoding='utf-8') as file:\n",
    "    text_data = file.read().splitlines()\n",
    "\n",
    "# Veriyi tokenize etme\n",
    "tokenized_text_data = [' '.join(word_tokenize(doc)) for doc in text_data]\n",
    "\n",
    "# TF-IDF vektörleştirici\n",
    "vectorizer = TfidfVectorizer()\n",
    "tfidf_matrix = vectorizer.fit_transform(tokenized_text_data)\n",
    "\n",
    "# Yeni belgeler için TF-IDF değerlerini hesaplama\n",
    "documents = [\n",
    "    \"Şimdi sen kalkıp gidiyorsun. Git\",\n",
    "    \"Gözlerin durur mu onlar da gidiyorlar. Gitsinler.\",\n",
    "    \"Oysa ben senin gözlerinsiz edemem bilirsin\"\n",
    "]\n",
    "\n",
    "# TF-IDF matrisi oluştur\n",
    "new_documents_tfidf = vectorizer.transform(documents)\n",
    "\n",
    "# Kelime özelliklerini ve TF-IDF değerlerini yazdırma\n",
    "print(\"Kelime Özellikleri (Vocabulary):\")\n",
    "print(vectorizer.vocabulary_)\n",
    "\n",
    "print(new_documents_tfidf)\n",
    "\n",
    "print(\"\\nYeni Belgelerin TF-IDF Matrisi:\")\n",
    "print(new_documents_tfidf.toarray())\n"
   ]
  },
  {
   "cell_type": "markdown",
   "id": "149b7c7b-149e-447c-9ed6-37ce77ada5da",
   "metadata": {},
   "source": [
    "# Co-Occurrence Matrix"
   ]
  },
  {
   "cell_type": "markdown",
   "id": "d6f832d7-840e-4a40-a393-f2fe4884ccb8",
   "metadata": {},
   "source": [
    "Co-Occurrence Matrix (Eş-Örneklem Matris), kelimelerin metinde birbirleriyle hangi sıklıkta birlikte geçtiğini gösteren bir matristir. Bu yöntem, kelimeler arasındaki ilişkiyi ve bağlamlarını analiz etmek için doğal dil işleme (NLP) alanında kullanılır. Co-Occurrence Matrix, özellikle kelime gömme (word embedding) modellerinin öncüsü olarak kabul edilir ve kelimelerin anlamsal ilişkilerini keşfetmek için temel bir adımdır.\n",
    "\n",
    "Co-Occurrence Matrix Nasıl Çalışır?\n",
    "Kelimeler Belirlenir: Metindeki kelimelerden bir kelime haznesi (vocabulary) oluşturulur.\n",
    "Matris Oluşturulur: Bu kelime haznesi kullanılarak, matrisin satır ve sütunları aynı kelime listesini içerir.\n",
    "Pencere Boyutu (Window Size): Her kelime için etrafındaki belirli sayıda (pencere boyutunda) kelime ile birlikte geçme sıklığı hesaplanır. Pencere boyutu, kelimenin etrafındaki kaç kelimeye kadar olan bölgenin dikkate alınacağını belirler.\n",
    "Sayma İşlemi: İki kelimenin bir metinde aynı pencere içinde geçiş sayısı matris hücresinde belirtilir.\n",
    "\n",
    "\n",
    "Co-Occurrence Matrix Kullanım Alanları:   \n",
    "Kelimeler Arasındaki Anlamsal İlişkiyi Keşfetmek: Kelimelerin birbiriyle ne sıklıkta geçtiğine göre anlam bağı kurar.\n",
    "Word Embedding Modelleri: Kelimelerin sayısal vektörlerle anlamlı bir şekilde temsil edilmesine yardımcı olur.\n",
    "Metin Analizi: Belirli kelime çiftlerinin birlikte geçme sıklığını inceleyerek metinde hangi kelimelerin ilişki içinde olduğunu belirlemek için kullanılır."
   ]
  },
  {
   "cell_type": "code",
   "execution_count": 31,
   "id": "ae11cfec-eea2-4ba5-84a2-2fec7ce45e18",
   "metadata": {},
   "outputs": [
    {
     "name": "stdout",
     "output_type": "stream",
     "text": [
      "            .  batarken  bir  dağlarda  deniz  dışarıda  günde  güneş  \\\n",
      ".           0         0    0         0      0         0      0      0   \n",
      "batarken    0         0    0         0      1         0      0      1   \n",
      "bir         0         0    0         0      0         0      1      0   \n",
      "dağlarda    0         0    0         0      0         0      0      0   \n",
      "deniz       0         1    0         0      0         0      0      0   \n",
      "dışarıda    0         0    0         0      0         0      0      0   \n",
      "günde       0         0    1         0      0         0      0      0   \n",
      "güneş       0         1    0         0      0         0      0      0   \n",
      "güneşli     0         0    1         0      0         0      0      0   \n",
      "güzeldir    1         0    0         0      0         0      0      0   \n",
      "kaplı       0         0    0         1      0         0      0      0   \n",
      "karla       0         0    0         0      0         0      0      0   \n",
      "kenarında   0         0    0         0      1         0      0      0   \n",
      "keyiflidir  1         0    0         0      0         0      0      0   \n",
      "olur        1         0    0         0      0         0      0      0   \n",
      "severim     1         0    0         0      0         0      0      0   \n",
      "yapmak      0         0    0         0      0         0      0      0   \n",
      "yapmayı     0         0    0         0      0         0      0      0   \n",
      "yağdığı     0         0    0         0      0         0      0      0   \n",
      "yağmur      0         0    0         0      0         0      0      0   \n",
      "yürüyüş     0         0    0         1      0         1      1      0   \n",
      "zaman       0         0    0         0      0         1      0      0   \n",
      "zor         0         0    0         0      0         0      0      0   \n",
      "çok         0         0    0         0      0         0      0      0   \n",
      "\n",
      "            güneşli  güzeldir  ...  olur  severim  yapmak  yapmayı  yağdığı  \\\n",
      ".                 0         1  ...     1        1       0        0        0   \n",
      "batarken          0         0  ...     0        0       0        0        0   \n",
      "bir               1         0  ...     0        0       0        0        0   \n",
      "dağlarda          0         0  ...     0        0       0        0        0   \n",
      "deniz             0         0  ...     0        0       0        0        0   \n",
      "dışarıda          0         0  ...     0        0       0        0        0   \n",
      "günde             0         0  ...     0        0       0        0        0   \n",
      "güneş             0         0  ...     0        0       0        0        0   \n",
      "güneşli           0         0  ...     0        0       0        0        0   \n",
      "güzeldir          0         0  ...     0        0       1        0        0   \n",
      "kaplı             0         0  ...     0        0       0        0        0   \n",
      "karla             0         0  ...     0        0       0        0        0   \n",
      "kenarında         0         0  ...     0        0       0        0        0   \n",
      "keyiflidir        0         0  ...     0        0       0        0        0   \n",
      "olur              0         0  ...     0        0       0        0        0   \n",
      "severim           0         0  ...     0        0       0        1        0   \n",
      "yapmak            0         1  ...     0        0       0        0        0   \n",
      "yapmayı           0         0  ...     0        1       0        0        0   \n",
      "yağdığı           0         0  ...     0        0       0        0        0   \n",
      "yağmur            0         0  ...     0        0       0        0        1   \n",
      "yürüyüş           0         0  ...     0        0       3        1        0   \n",
      "zaman             0         0  ...     0        0       0        0        1   \n",
      "zor               0         0  ...     1        0       1        0        0   \n",
      "çok               0         0  ...     0        0       1        0        0   \n",
      "\n",
      "            yağmur  yürüyüş  zaman  zor  çok  \n",
      ".                0        0      0    0    0  \n",
      "batarken         0        0      0    0    0  \n",
      "bir              0        0      0    0    0  \n",
      "dağlarda         0        1      0    0    0  \n",
      "deniz            0        0      0    0    0  \n",
      "dışarıda         0        1      1    0    0  \n",
      "günde            0        1      0    0    0  \n",
      "güneş            0        0      0    0    0  \n",
      "güneşli          0        0      0    0    0  \n",
      "güzeldir         0        0      0    0    0  \n",
      "kaplı            0        0      0    0    0  \n",
      "karla            0        0      0    0    0  \n",
      "kenarında        0        1      0    0    0  \n",
      "keyiflidir       0        0      0    0    1  \n",
      "olur             0        0      0    1    0  \n",
      "severim          0        0      0    0    0  \n",
      "yapmak           0        3      0    1    1  \n",
      "yapmayı          0        1      0    0    0  \n",
      "yağdığı          1        0      1    0    0  \n",
      "yağmur           0        0      0    0    0  \n",
      "yürüyüş          0        0      0    0    0  \n",
      "zaman            0        0      0    0    0  \n",
      "zor              0        0      0    0    0  \n",
      "çok              0        0      0    0    0  \n",
      "\n",
      "[24 rows x 24 columns]\n"
     ]
    }
   ],
   "source": [
    "import numpy as np\n",
    "import pandas as pd\n",
    "from collections import defaultdict\n",
    "from nltk.tokenize import word_tokenize\n",
    "import nltk\n",
    "import numpy as np\n",
    "\n",
    "# Örnek metin\n",
    "text = [\n",
    "    \"Güneşli bir günde yürüyüş yapmak çok keyiflidir.\",\n",
    "    \"Yağmur yağdığı zaman dışarıda yürüyüş yapmak zor olur.\",\n",
    "    \"Karla kaplı dağlarda yürüyüş yapmayı severim.\",\n",
    "    \"Güneş batarken deniz kenarında yürüyüş yapmak güzeldir.\"\n",
    "]\n",
    "\n",
    "# Kelimeleri tokenize etme\n",
    "tokenized_text = [word_tokenize(sentence.lower()) for sentence in text]\n",
    "\n",
    "# Kelime haznesi oluşturma\n",
    "vocab = set(word for sentence in tokenized_text for word in sentence)\n",
    "vocab = sorted(vocab)  # Kelime sırasını sabitlemek için sıralıyoruz\n",
    "vocab_index = {word: idx for idx, word in enumerate(vocab)}\n",
    "\n",
    "# Eş-örneklem matrisi oluşturma\n",
    "co_occurrence_matrix = np.zeros((len(vocab), len(vocab)), dtype=np.int32)\n",
    "window_size = 1\n",
    "\n",
    "# Matris için kelime eşleştirme\n",
    "for sentence in tokenized_text:\n",
    "    for i, word in enumerate(sentence):\n",
    "        word_idx = vocab_index[word]\n",
    "        \n",
    "        # Pencere içindeki kelimeleri dolaş\n",
    "        start = max(i - window_size, 0)\n",
    "        end = min(i + window_size + 1, len(sentence))\n",
    "        \n",
    "        for j in range(start, end):\n",
    "            if i != j:\n",
    "                neighbor_word = sentence[j]\n",
    "                neighbor_idx = vocab_index[neighbor_word]\n",
    "                co_occurrence_matrix[word_idx, neighbor_idx] += 1\n",
    "\n",
    "# Eş-örneklem matrisini bir pandas DataFrame olarak göster\n",
    "co_occurrence_df = pd.DataFrame(co_occurrence_matrix, index=vocab, columns=vocab)\n",
    "print(co_occurrence_df)"
   ]
  },
  {
   "cell_type": "code",
   "execution_count": 29,
   "id": "ac3378af-12b9-4a4d-8ea3-04e622e8eac1",
   "metadata": {},
   "outputs": [
    {
     "name": "stdout",
     "output_type": "stream",
     "text": [
      "Co_occuernce Matrisi:\n",
      "[[0 0 0 1 0 0 1 0 1 0 0 1 0 0 0 1 0 0 0 1 0 0 0]\n",
      " [0 0 0 0 0 1 0 1 0 0 0 0 1 0 0 1 0 0 0 1 0 0 1]\n",
      " [0 0 0 0 0 0 0 0 0 1 1 0 0 0 1 0 1 0 0 1 0 0 0]\n",
      " [1 0 0 0 0 0 1 0 1 0 0 1 0 0 0 1 0 0 0 1 0 0 0]\n",
      " [0 0 0 0 0 0 0 0 0 0 0 0 0 1 0 1 0 1 1 1 1 1 0]\n",
      " [0 1 0 0 0 0 0 1 0 0 0 0 1 0 0 1 0 0 0 1 0 0 1]\n",
      " [1 0 0 1 0 0 0 0 1 0 0 1 0 0 0 1 0 0 0 1 0 0 0]\n",
      " [0 1 0 0 0 1 0 0 0 0 0 0 1 0 0 1 0 0 0 1 0 0 1]\n",
      " [1 0 0 1 0 0 1 0 0 0 0 1 0 0 0 1 0 0 0 1 0 0 0]\n",
      " [0 0 1 0 0 0 0 0 0 0 1 0 0 0 1 0 1 0 0 1 0 0 0]\n",
      " [0 0 1 0 0 0 0 0 0 1 0 0 0 0 1 0 1 0 0 1 0 0 0]\n",
      " [1 0 0 1 0 0 1 0 1 0 0 0 0 0 0 1 0 0 0 1 0 0 0]\n",
      " [0 1 0 0 0 1 0 1 0 0 0 0 0 0 0 1 0 0 0 1 0 0 1]\n",
      " [0 0 0 0 1 0 0 0 0 0 0 0 0 0 0 1 0 1 1 1 1 1 0]\n",
      " [0 0 1 0 0 0 0 0 0 1 1 0 0 0 0 0 1 0 0 1 0 0 0]\n",
      " [1 1 0 1 1 1 1 1 1 0 0 1 1 1 0 0 0 1 1 3 1 1 1]\n",
      " [0 0 1 0 0 0 0 0 0 1 1 0 0 0 1 0 0 0 0 1 0 0 0]\n",
      " [0 0 0 0 1 0 0 0 0 0 0 0 0 1 0 1 0 0 1 1 1 1 0]\n",
      " [0 0 0 0 1 0 0 0 0 0 0 0 0 1 0 1 0 1 0 1 1 1 0]\n",
      " [1 1 1 1 1 1 1 1 1 1 1 1 1 1 1 3 1 1 1 0 1 1 1]\n",
      " [0 0 0 0 1 0 0 0 0 0 0 0 0 1 0 1 0 1 1 1 0 1 0]\n",
      " [0 0 0 0 1 0 0 0 0 0 0 0 0 1 0 1 0 1 1 1 1 0 0]\n",
      " [0 1 0 0 0 1 0 1 0 0 0 0 1 0 0 1 0 0 0 1 0 0 0]]\n",
      "Kelime İndeskleri:\n",
      "{'güneşli': 7, 'bir': 1, 'günde': 5, 'yürüyüş': 19, 'yapmak': 15, 'çok': 22, 'keyiflidir': 12, 'yağmur': 18, 'yağdığı': 17, 'zaman': 20, 'dışarıda': 4, 'zor': 21, 'olur': 13, 'karla': 10, 'kaplı': 9, 'dağlarda': 2, 'yapmayı': 16, 'severim': 14, 'güneş': 6, 'batarken': 0, 'deniz': 3, 'kenarında': 11, 'güzeldir': 8}\n"
     ]
    }
   ],
   "source": [
    "from sklearn.feature_extraction.text import CountVectorizer\n",
    "from scipy.sparse import coo_matrix\n",
    "import numpy as np\n",
    "\n",
    "text = [\n",
    "    \"Güneşli bir günde yürüyüş yapmak çok keyiflidir.\",\n",
    "    \"Yağmur yağdığı zaman dışarıda yürüyüş yapmak zor olur.\",\n",
    "    \"Karla kaplı dağlarda yürüyüş yapmayı severim.\",\n",
    "    \"Güneş batarken deniz kenarında yürüyüş yapmak güzeldir.\"\n",
    "    \n",
    "]\n",
    "\n",
    "vectorizer = CountVectorizer(binary= True)\n",
    "word_count_matrix = vectorizer.fit_transform(text)\n",
    "\n",
    "co_occurence_matrix = word_count_matrix.T.dot(word_count_matrix)\n",
    "\n",
    "co_occurence_matrix.setdiag(0)\n",
    "\n",
    "co_occurence_matrix = coo_matrix(co_occurence_matrix)\n",
    "\n",
    "print(\"Co_occuernce Matrisi:\")\n",
    "print(co_occurence_matrix.toarray())\n",
    "\n",
    "print(\"Kelime İndeskleri:\")\n",
    "print(vectorizer.vocabulary_)"
   ]
  },
  {
   "cell_type": "code",
   "execution_count": 45,
   "id": "45493939-e87e-4f9c-b9ed-93e71b3d1e5e",
   "metadata": {},
   "outputs": [
    {
     "name": "stdout",
     "output_type": "stream",
     "text": [
      "Co-occurrence Matrisi:\n",
      "[[0 0 0 1 0 0 1 0 1 0 0 1 0 0 0 1 0 0 0 1 0 0 0]\n",
      " [0 0 0 0 0 1 0 1 0 0 0 0 1 0 0 1 0 0 0 1 0 0 1]\n",
      " [0 0 0 0 0 0 0 0 0 1 1 0 0 0 1 0 1 0 0 1 0 0 0]\n",
      " [1 0 0 0 0 0 1 0 1 0 0 1 0 0 0 1 0 0 0 1 0 0 0]\n",
      " [0 0 0 0 0 0 0 0 0 0 0 0 0 1 0 1 0 1 1 1 1 1 0]\n",
      " [0 1 0 0 0 0 0 1 0 0 0 0 1 0 0 1 0 0 0 1 0 0 1]\n",
      " [1 0 0 1 0 0 0 0 1 0 0 1 0 0 0 1 0 0 0 1 0 0 0]\n",
      " [0 1 0 0 0 1 0 0 0 0 0 0 1 0 0 1 0 0 0 1 0 0 1]\n",
      " [1 0 0 1 0 0 1 0 0 0 0 1 0 0 0 1 0 0 0 1 0 0 0]\n",
      " [0 0 1 0 0 0 0 0 0 0 1 0 0 0 1 0 1 0 0 1 0 0 0]\n",
      " [0 0 1 0 0 0 0 0 0 1 0 0 0 0 1 0 1 0 0 1 0 0 0]\n",
      " [1 0 0 1 0 0 1 0 1 0 0 0 0 0 0 1 0 0 0 1 0 0 0]\n",
      " [0 1 0 0 0 1 0 1 0 0 0 0 0 0 0 1 0 0 0 1 0 0 1]\n",
      " [0 0 0 0 1 0 0 0 0 0 0 0 0 0 0 1 0 1 1 1 1 1 0]\n",
      " [0 0 1 0 0 0 0 0 0 1 1 0 0 0 0 0 1 0 0 1 0 0 0]\n",
      " [1 1 0 1 1 1 1 1 1 0 0 1 1 1 0 0 0 1 1 3 1 1 1]\n",
      " [0 0 1 0 0 0 0 0 0 1 1 0 0 0 1 0 0 0 0 1 0 0 0]\n",
      " [0 0 0 0 1 0 0 0 0 0 0 0 0 1 0 1 0 0 1 1 1 1 0]\n",
      " [0 0 0 0 1 0 0 0 0 0 0 0 0 1 0 1 0 1 0 1 1 1 0]\n",
      " [1 1 1 1 1 1 1 1 1 1 1 1 1 1 1 3 1 1 1 0 1 1 1]\n",
      " [0 0 0 0 1 0 0 0 0 0 0 0 0 1 0 1 0 1 1 1 0 1 0]\n",
      " [0 0 0 0 1 0 0 0 0 0 0 0 0 1 0 1 0 1 1 1 1 0 0]\n",
      " [0 1 0 0 0 1 0 1 0 0 0 0 1 0 0 1 0 0 0 1 0 0 0]]\n",
      "\n",
      "Sıralı Kelime İndeksleri:\n",
      "batarken: 0\n",
      "bir: 1\n",
      "dağlarda: 2\n",
      "deniz: 3\n",
      "dışarıda: 4\n",
      "günde: 5\n",
      "güneş: 6\n",
      "güneşli: 7\n",
      "güzeldir: 8\n",
      "kaplı: 9\n",
      "karla: 10\n",
      "kenarında: 11\n",
      "keyiflidir: 12\n",
      "olur: 13\n",
      "severim: 14\n",
      "yapmak: 15\n",
      "yapmayı: 16\n",
      "yağdığı: 17\n",
      "yağmur: 18\n",
      "yürüyüş: 19\n",
      "zaman: 20\n",
      "zor: 21\n",
      "çok: 22\n"
     ]
    }
   ],
   "source": [
    "from sklearn.feature_extraction.text import CountVectorizer\n",
    "from scipy.sparse import coo_matrix\n",
    "import numpy as np\n",
    "\n",
    "text = [\n",
    "    \"Güneşli bir günde yürüyüş yapmak çok keyiflidir.\",\n",
    "    \"Yağmur yağdığı zaman dışarıda yürüyüş yapmak zor olur.\",\n",
    "    \"Karla kaplı dağlarda yürüyüş yapmayı severim.\",\n",
    "    \"Güneş batarken deniz kenarında yürüyüş yapmak güzeldir.\"\n",
    "]\n",
    "\n",
    "# Kelime vektörleştirme (binary=True ile her kelimenin varlığını sayar, frekansını değil)\n",
    "vectorizer = CountVectorizer(binary=True)\n",
    "word_count_matrix = vectorizer.fit_transform(text)\n",
    "\n",
    "# Kelime sayım matrisinin transpozunu alıp orijinali ile çarparak co-occurrence matrisi elde etme\n",
    "co_occurence_matrix = word_count_matrix.T.dot(word_count_matrix)\n",
    "\n",
    "# Kelimelerin kendisiyle olan eşleşmelerini sıfırlama\n",
    "co_occurence_matrix.setdiag(0)\n",
    "\n",
    "# Sparse matris olarak co-occurrence matrisi oluşturma\n",
    "co_occurence_matrix = coo_matrix(co_occurence_matrix)\n",
    "\n",
    "# Co-occurrence matrisini yazdırma\n",
    "print(\"Co-occurrence Matrisi:\")\n",
    "print(co_occurence_matrix.toarray())\n",
    "\n",
    "# Kelime İndekslerini alfabetik sırayla yazdırma\n",
    "sorted_vocab = sorted(vectorizer.vocabulary_.items(), key=lambda x: x[0])\n",
    "print(\"\\nSıralı Kelime İndeksleri:\")\n",
    "for word, idx in sorted_vocab:\n",
    "    print(f\"{word}: {idx}\")"
   ]
  },
  {
   "cell_type": "markdown",
   "id": "78416591-0504-45c6-bc86-e6ee942290ea",
   "metadata": {},
   "source": [
    "# CBOW (Continuous Bag of Words)"
   ]
  },
  {
   "cell_type": "markdown",
   "id": "66c1e8df-b713-45c7-a2f1-d9073c8b3b0d",
   "metadata": {},
   "source": [
    "CBOW (Continuous Bag of Words), Word2Vec algoritmasının iki temel yönteminden biridir ve kelimelerin bağlamdan öğrenilmesi için kullanılan popüler bir kelime gömme (word embedding) modelidir. CBOW, çevresindeki kelimelerden (bağlamdan) hareketle hedef kelimeyi tahmin etmeye çalışır.\n",
    "\n",
    "CBOW Nasıl Çalışır?    \n",
    "CBOW modelinde, bir cümledeki bir kelimenin anlamı, etrafındaki kelimelerden tahmin edilir. Örneğin, \"Güzel bir gün\" cümlesinde \"gün\" kelimesini tahmin etmek için \"Güzel\" ve \"bir\" kelimeleri kullanılır.\n",
    "Bu yöntem, kelimenin etrafındaki (öncesindeki ve sonrasındaki) belirli sayıda kelimeye, yani pencere boyutu denilen bir çerçeveye bakar. Bu pencere boyutu, CBOW modelinin hedef kelimeyi tahmin etmek için kaç kelimeyi kullanacağını belirler.\n",
    "\n",
    "CBOW Modelinin Çalışma Süreci:     \n",
    "Girdi: Çevresindeki kelimeler (bağlam kelimeleri).\n",
    "Çıktı: Hedef kelime (tahmin edilmesi gereken kelime).\n",
    "Eğitim: Çevresindeki kelimelerden hedef kelimeyi tahmin etmeye çalışarak model eğitilir. Model, eğitim sürecinde kelimeler arasındaki ilişkileri öğrenir ve her kelimeyi bir vektör olarak temsil eder."
   ]
  },
  {
   "cell_type": "code",
   "execution_count": 76,
   "id": "cb64a24c-ed2f-451c-9c21-87c8531cf1d8",
   "metadata": {
    "scrolled": true
   },
   "outputs": [
    {
     "name": "stdout",
     "output_type": "stream",
     "text": [
      "CBOW ile örnek kelimenin benzer kelimeleri:\n",
      ".: 0.5456780195236206\n",
      "batarken: 0.5154356360435486\n",
      "yağdığı: 0.43406450748443604\n"
     ]
    }
   ],
   "source": [
    "from gensim.models import Word2Vec\n",
    "from nltk.tokenize import word_tokenize\n",
    "import nltk\n",
    "\n",
    "text = \"Güneşli bir günde yürüyüş yapmak çok keyiflidir. Yağmur yağdığı zaman dışarıda yürüyüş yapmak zor olur. Karla kaplı dağlarda yürüyüş yapmayı severim. Güneş batarken deniz kenarında yürüyüş yapmak güzeldir.\"\n",
    "\n",
    "# metni tokenlara ayırma\n",
    "tokens = word_tokenize(text.lower())\n",
    "\n",
    "# CBOW modelini oluşturma\n",
    "model_cbow = Word2Vec(sentences=[tokens], vector_size = 10, window=3, sg=0, min_count=1, workers=4)\n",
    "\n",
    "# model eğitimi\n",
    "model_cbow.train([tokens], total_examples=1, epochs=10)\n",
    "\n",
    "# kelimeler arasındaki benzerlikleri kontrol edin\n",
    "similar_words_cbow = model_cbow.wv.most_similar('yürüyüş', topn = 3)\n",
    "\n",
    "# sonuçalrı yazdırma\n",
    "print(\"CBOW ile örnek kelimenin benzer kelimeleri:\")\n",
    "for word, score in similar_words_cbow:\n",
    "    print(f\"{word}: {score}\")"
   ]
  },
  {
   "cell_type": "markdown",
   "id": "b9e92889-5a3c-4ab9-b8dc-980c76be11ed",
   "metadata": {},
   "source": [
    "# Skip-Gram"
   ]
  },
  {
   "cell_type": "markdown",
   "id": "8d392823-f86f-44a9-9f64-b61cf829bbc3",
   "metadata": {},
   "source": [
    "Skip-Gram, Word2Vec algoritmasının kelimeler arasındaki anlamsal ilişkileri öğrenmek için kullandığı iki yöntemden biridir. Skip-Gram, bir hedef kelimeden yola çıkarak bu kelimenin bağlamındaki (etrafındaki) diğer kelimeleri tahmin etmeye çalışır. Böylece, bir kelimenin etrafındaki kelimelerle olan ilişkisini öğrenir ve kelimeleri sayısal vektörlerle temsil eder.\n",
    "\n",
    "CBOW Modelinin Çalışma Süreci:\n",
    "Girdi: Bir hedef kelime.\n",
    "Çıktı: Hedef kelimenin çevresindeki kelimeler.\n",
    "Skip-Gram modeli, her kelime için, belirli bir pencere boyutu (window size) içinde yer alan kelimeleri tahmin etmeye çalışır.\n",
    "\n",
    "Örneğin, \"Güzel bir gün ve güneşli bir hava\" cümlesinde \"gün\" kelimesini hedef olarak aldığımızda, çevresindeki kelimeler \"bir\", \"ve\", \"güneşli\" gibi kelimeler olur. Model, \"gün\" kelimesini kullanarak bu çevresindeki kelimeleri tahmin etmeye çalışır.\n",
    "\n",
    "Skip-Gram Modelinin Avantajları:\n",
    "Bağlamsal Bilgi: Kelimenin bağlamını anlamaya çalıştığı için kelimeler arasındaki anlam ilişkilerini daha iyi öğrenir.\n",
    "Nadir Kelimeler: Nadir kelimeler ve kelimelerin farklı kullanımları üzerinde daha iyi sonuçlar verir.\n",
    "Büyük Veri Kümeleri İçin Uygun: Çalışma mantığı gereği büyük veri kümelerinde daha iyi performans gösterir."
   ]
  },
  {
   "cell_type": "markdown",
   "id": "109568a3-50c1-4655-8f26-5440d5464726",
   "metadata": {},
   "source": [
    "## Skip-Gram ve CBOW Arasındaki Farklar:   \n",
    "CBOW: Bağlam kelimelerinden hedef kelimeyi tahmin eder.\n",
    "Skip-Gram: Hedef kelimeden bağlam kelimelerini tahmin eder. Bu nedenle nadir kelimeleri daha iyi öğrenebilir ve büyük veri kümelerinde daha etkili çalışır."
   ]
  },
  {
   "cell_type": "code",
   "execution_count": 78,
   "id": "464fd70c-e84f-4f11-baf2-b4bbea9d79d7",
   "metadata": {},
   "outputs": [
    {
     "name": "stdout",
     "output_type": "stream",
     "text": [
      "Skip-Gram ile örnek kelimenin benzer kelimeleri:\n",
      ".: 0.5470782518386841\n",
      "batarken: 0.5198911428451538\n",
      "yağdığı: 0.4340757727622986\n"
     ]
    }
   ],
   "source": [
    "from gensim.models import Word2Vec\n",
    "from nltk.tokenize import word_tokenize\n",
    "import nltk\n",
    "\n",
    "text = \"Güneşli bir günde yürüyüş yapmak çok keyiflidir. Yağmur yağdığı zaman dışarıda yürüyüş yapmak zor olur. Karla kaplı dağlarda yürüyüş yapmayı severim. Güneş batarken deniz kenarında yürüyüş yapmak güzeldir.\"\n",
    "\n",
    "# metni tokenlara ayırma\n",
    "tokens = word_tokenize(text.lower())\n",
    "\n",
    "# CBOW modelini oluşturma\n",
    "model_skipgram = Word2Vec(sentences=[tokens], vector_size = 10, window = 3, sg = 1, min_count=1, workers=4)\n",
    "\n",
    "# model eğitimi\n",
    "model_skipgram.train([tokens], total_examples=1, epochs=10)\n",
    "\n",
    "# kelimeler arasındaki benzerlikleri kontrol edin\n",
    "similar_words_skipgram = model_skipgram.wv.most_similar('yürüyüş', topn = 3)\n",
    "\n",
    "# sonuçalrı yazdırma\n",
    "print(\"Skip-Gram ile örnek kelimenin benzer kelimeleri:\")\n",
    "for word, score in similar_words_skipgram:\n",
    "    print(f\"{word}: {score}\")"
   ]
  },
  {
   "cell_type": "code",
   "execution_count": 80,
   "id": "f5a86282-c601-4684-b1a2-17698c6e8a18",
   "metadata": {},
   "outputs": [
    {
     "name": "stdout",
     "output_type": "stream",
     "text": [
      "CBOW ile örnek kelimenin benzer kelimeleri:\n",
      ".: 0.5456780195236206\n",
      "batarken: 0.5154356360435486\n",
      "yağdığı: 0.43406450748443604\n"
     ]
    }
   ],
   "source": [
    "from gensim.models import Word2Vec\n",
    "from nltk.tokenize import word_tokenize\n",
    "import nltk\n",
    "\n",
    "text = \"Güneşli bir günde yürüyüş yapmak çok keyiflidir. Yağmur yağdığı zaman dışarıda yürüyüş yapmak zor olur. Karla kaplı dağlarda yürüyüş yapmayı severim. Güneş batarken deniz kenarında yürüyüş yapmak güzeldir.\"\n",
    "\n",
    "# metni tokenlara ayırma\n",
    "tokens = word_tokenize(text.lower())\n",
    "\n",
    "# CBOW modelini oluşturma\n",
    "model = Word2Vec(sentences=[tokens], vector_size = 10, window=3, sg=0, min_count=1, workers=4)\n",
    "\n",
    "# model eğitimi\n",
    "model.train([tokens], total_examples=1, epochs=10)\n",
    "\n",
    "# kelimeler arasındaki benzerlikleri kontrol edin\n",
    "similar_words = model.wv.most_similar('yürüyüş', topn = 3)\n",
    "\n",
    "# sonuçalrı yazdırma\n",
    "print(\"CBOW ile örnek kelimenin benzer kelimeleri:\")\n",
    "for word, score in similar_words:\n",
    "    print(f\"{word}: {score}\")"
   ]
  },
  {
   "cell_type": "code",
   "execution_count": null,
   "id": "07dc4884-b551-4c86-8146-407f1e712206",
   "metadata": {},
   "outputs": [],
   "source": []
  }
 ],
 "metadata": {
  "kernelspec": {
   "display_name": "Python [conda env:deep]",
   "language": "python",
   "name": "conda-env-deep-py"
  },
  "language_info": {
   "codemirror_mode": {
    "name": "ipython",
    "version": 3
   },
   "file_extension": ".py",
   "mimetype": "text/x-python",
   "name": "python",
   "nbconvert_exporter": "python",
   "pygments_lexer": "ipython3",
   "version": "3.9.19"
  }
 },
 "nbformat": 4,
 "nbformat_minor": 5
}
